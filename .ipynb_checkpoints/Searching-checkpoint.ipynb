{
 "cells": [
  {
   "cell_type": "markdown",
   "id": "c4647e13",
   "metadata": {},
   "source": [
    "# Binary Tree"
   ]
  },
  {
   "cell_type": "markdown",
   "id": "5bf8b601",
   "metadata": {},
   "source": [
    "O(log(n)) Time  | O(log(n))"
   ]
  },
  {
   "cell_type": "code",
   "execution_count": 1,
   "id": "6764053f",
   "metadata": {},
   "outputs": [],
   "source": [
    "# function 1\n",
    "def binarySearch(array, target):\n",
    "\treturn binarySearchHelper(array, target, 0, len(array) - 1)\n",
    "\t\n",
    "def binarySearchHelper(array, target, left, right):\n",
    "\t\n",
    "\twhile left <= right:\n",
    "\t\tmiddle = (left + right) // 2\n",
    "\t\tmiddleValue = array[middle]\n",
    "\t\tif middleValue == target:\n",
    "\t\t\treturn middle\n",
    "\t\telif middleValue < target:\n",
    "\t\t\tleft = middle + 1\n",
    "\t\telif middleValue > target:\n",
    "\t\t\tright = middle - 1\n",
    "\treturn -1"
   ]
  },
  {
   "cell_type": "markdown",
   "id": "660dc482",
   "metadata": {},
   "source": [
    "O(log(n)) Time  | O(1)"
   ]
  },
  {
   "cell_type": "code",
   "execution_count": 12,
   "id": "564f5a19",
   "metadata": {},
   "outputs": [
    {
     "name": "stdout",
     "output_type": "stream",
     "text": [
      "你要搜尋的數字在Index : 3\n"
     ]
    }
   ],
   "source": [
    "# function 2\n",
    "def binarySearch(array, target):\n",
    "\treturn binarySearchHelper(array, target, 0, len(array) - 1)\n",
    "\n",
    "def binarySearchHelper(array, target, left, right):\n",
    "\tif left > right: \n",
    "\t\treturn -1\n",
    "\t\n",
    "\tmid = (left + right) // 2\n",
    "\tmidValue = array[mid]\n",
    "\tif midValue == target:\n",
    "\t\treturn mid\n",
    "\telif midValue > target:\n",
    "\t\treturn binarySearchHelper(array, target, left, mid - 1)\n",
    "\telse:\n",
    "\t\treturn binarySearchHelper(array, target, mid + 1, right)\n",
    "    \n",
    "array = [2,4,6,8,9]\n",
    "target = 8\n",
    "print(\"你要搜尋的數字在Index :\", binarySearch(array, target))"
   ]
  },
  {
   "cell_type": "markdown",
   "id": "2a5be362",
   "metadata": {},
   "source": [
    "# Find Three Largest Numbers"
   ]
  },
  {
   "cell_type": "markdown",
   "id": "c96092f1",
   "metadata": {},
   "source": [
    "O(n) Time | O(1)"
   ]
  },
  {
   "cell_type": "code",
   "execution_count": 10,
   "id": "e804cd5f",
   "metadata": {},
   "outputs": [
    {
     "name": "stdout",
     "output_type": "stream",
     "text": [
      "最大的三個數字為: [15, 20, 25]\n"
     ]
    }
   ],
   "source": [
    "# Algoexpert Solution\n",
    "def findThreeLargestNumbers(array):\n",
    "    threeLargest = [None] * 3\n",
    "    for num in array:\n",
    "        updateThreeLargest(threeLargest, num)\n",
    "    return threeLargest\n",
    "\n",
    "def updateThreeLargest(threeLargest, num):\n",
    "    if threeLargest[2] is None or num > threeLargest[2]:\n",
    "        shiftLargest(threeLargest, num, 2)\n",
    "    elif threeLargest[1] is None or num > threeLargest[1]:\n",
    "        shiftLargest(threeLargest, num, 1)\n",
    "    elif threeLargest[0] is None or num > threeLargest[0]:\n",
    "        shiftLargest(threeLargest, num, 0)\n",
    "\n",
    "def shiftLargest(array, num, idx):\n",
    "    for i in range(idx + 1):\n",
    "        if i == idx:\n",
    "            array[i] = num\n",
    "        else:\n",
    "            array[i] = array[i+1]\n",
    "            \n",
    "array = [5, 10, 15, 20, 25]\n",
    "print(\"最大的三個數字為:\", findThreeLargestNumbers(array))"
   ]
  },
  {
   "cell_type": "code",
   "execution_count": 9,
   "id": "2b99a0e9",
   "metadata": {},
   "outputs": [
    {
     "name": "stdout",
     "output_type": "stream",
     "text": [
      "最大的三個數字為: [15, 20, 25]\n"
     ]
    }
   ],
   "source": [
    "def findThreeLargestNumbers(array):\n",
    "    # 初始化三個變數來存儲最大的三個數字，初始化為負無限大\n",
    "    firstLargest = float('-inf')\n",
    "    secondLargest = float('-inf')\n",
    "    thirdLargest = float('-inf')\n",
    "\n",
    "    # 遍歷陣列中的每個數字\n",
    "    for num in array:\n",
    "        # 如果當前數字大於第一大的數字，則更新第一大、第二大和第三大的數字\n",
    "        if num > firstLargest:\n",
    "            thirdLargest = secondLargest\n",
    "            secondLargest = firstLargest\n",
    "            firstLargest = num\n",
    "        # 否則，如果當前數字介於第一大和第二大之間，則更新第二大和第三大的數字\n",
    "        elif num > secondLargest:\n",
    "            thirdLargest = secondLargest\n",
    "            secondLargest = num\n",
    "        # 否則，如果當前數字介於第二大和第三大之間，則只更新第三大的數字\n",
    "        elif num > thirdLargest:\n",
    "            thirdLargest = num\n",
    "\n",
    "    # 返回最大的三個數字\n",
    "    return [thirdLargest, secondLargest, firstLargest]\n",
    "\n",
    "# 範例使用\n",
    "array = [5, 10, 15, 20, 25]\n",
    "print(\"最大的三個數字為:\", findThreeLargestNumbers(array))"
   ]
  }
 ],
 "metadata": {
  "kernelspec": {
   "display_name": "Python 3 (ipykernel)",
   "language": "python",
   "name": "python3"
  },
  "language_info": {
   "codemirror_mode": {
    "name": "ipython",
    "version": 3
   },
   "file_extension": ".py",
   "mimetype": "text/x-python",
   "name": "python",
   "nbconvert_exporter": "python",
   "pygments_lexer": "ipython3",
   "version": "3.11.2"
  }
 },
 "nbformat": 4,
 "nbformat_minor": 5
}
