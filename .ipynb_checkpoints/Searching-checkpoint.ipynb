{
 "cells": [
  {
   "cell_type": "markdown",
   "id": "c4647e13",
   "metadata": {},
   "source": [
    "# Binary Tree"
   ]
  },
  {
   "cell_type": "markdown",
   "id": "5bf8b601",
   "metadata": {},
   "source": [
    "O(log(n)) Time  | O(log(n))"
   ]
  },
  {
   "cell_type": "code",
   "execution_count": 1,
   "id": "6764053f",
   "metadata": {},
   "outputs": [],
   "source": [
    "# function 1\n",
    "def binarySearch(array, target):\n",
    "\treturn binarySearchHelper(array, target, 0, len(array) - 1)\n",
    "\t\n",
    "def binarySearchHelper(array, target, left, right):\n",
    "\t\n",
    "\twhile left <= right:\n",
    "\t\tmiddle = (left + right) // 2\n",
    "\t\tmiddleValue = array[middle]\n",
    "\t\tif middleValue == target:\n",
    "\t\t\treturn middle\n",
    "\t\telif middleValue < target:\n",
    "\t\t\tleft = middle + 1\n",
    "\t\telif middleValue > target:\n",
    "\t\t\tright = middle - 1\n",
    "\treturn -1"
   ]
  },
  {
   "cell_type": "markdown",
   "id": "660dc482",
   "metadata": {},
   "source": [
    "O(log(n)) Time  | O(1)"
   ]
  },
  {
   "cell_type": "code",
   "execution_count": 12,
   "id": "564f5a19",
   "metadata": {},
   "outputs": [
    {
     "name": "stdout",
     "output_type": "stream",
     "text": [
      "你要搜尋的數字在Index : 3\n"
     ]
    }
   ],
   "source": [
    "# function 2\n",
    "def binarySearch(array, target):\n",
    "\treturn binarySearchHelper(array, target, 0, len(array) - 1)\n",
    "\n",
    "def binarySearchHelper(array, target, left, right):\n",
    "\tif left > right: \n",
    "\t\treturn -1\n",
    "\t\n",
    "\tmid = (left + right) // 2\n",
    "\tmidValue = array[mid]\n",
    "\tif midValue == target:\n",
    "\t\treturn mid\n",
    "\telif midValue > target:\n",
    "\t\treturn binarySearchHelper(array, target, left, mid - 1)\n",
    "\telse:\n",
    "\t\treturn binarySearchHelper(array, target, mid + 1, right)\n",
    "    \n",
    "array = [2,4,6,8,9]\n",
    "target = 8\n",
    "print(\"你要搜尋的數字在Index :\", binarySearch(array, target))"
   ]
  },
  {
   "cell_type": "markdown",
   "id": "27ed9082",
   "metadata": {},
   "source": [
    "---"
   ]
  },
  {
   "cell_type": "markdown",
   "id": "2a5be362",
   "metadata": {},
   "source": [
    "# Find Three Largest Numbers"
   ]
  },
  {
   "cell_type": "markdown",
   "id": "c96092f1",
   "metadata": {},
   "source": [
    "O(n) Time | O(1)"
   ]
  },
  {
   "cell_type": "code",
   "execution_count": 10,
   "id": "e804cd5f",
   "metadata": {},
   "outputs": [
    {
     "name": "stdout",
     "output_type": "stream",
     "text": [
      "最大的三個數字為: [15, 20, 25]\n"
     ]
    }
   ],
   "source": [
    "# Algoexpert\n",
    "def findThreeLargestNumbers(array):\n",
    "    threeLargest = [None] * 3\n",
    "    for num in array:\n",
    "        updateThreeLargest(threeLargest, num)\n",
    "    return threeLargest\n",
    "\n",
    "def updateThreeLargest(threeLargest, num):\n",
    "    if threeLargest[2] is None or num > threeLargest[2]:\n",
    "        shiftLargest(threeLargest, num, 2)\n",
    "    elif threeLargest[1] is None or num > threeLargest[1]:\n",
    "        shiftLargest(threeLargest, num, 1)\n",
    "    elif threeLargest[0] is None or num > threeLargest[0]:\n",
    "        shiftLargest(threeLargest, num, 0)\n",
    "\n",
    "def shiftLargest(array, num, idx):\n",
    "    for i in range(idx + 1):\n",
    "        if i == idx:\n",
    "            array[i] = num\n",
    "        else:\n",
    "            array[i] = array[i+1]\n",
    "            \n",
    "array = [5, 10, 15, 20, 25]\n",
    "print(\"最大的三個數字為:\", findThreeLargestNumbers(array))"
   ]
  },
  {
   "cell_type": "code",
   "execution_count": 13,
   "id": "2b99a0e9",
   "metadata": {},
   "outputs": [
    {
     "name": "stdout",
     "output_type": "stream",
     "text": [
      "最大的三個數字為: [15, 20, 25]\n"
     ]
    }
   ],
   "source": [
    "def findThreeLargestNumbers(array):\n",
    "    # 初始化三個變數來存儲最大的三個數字，初始化為負無限大\n",
    "    firstLargest = float('-inf')\n",
    "    secondLargest = float('-inf')\n",
    "    thirdLargest = float('-inf')\n",
    "\n",
    "    # 遍歷陣列中的每個數字\n",
    "    for num in array:\n",
    "        # 如果當前數字大於第一大的數字，則更新第一大、第二大和第三大的數字\n",
    "        if num > firstLargest:\n",
    "            thirdLargest = secondLargest\n",
    "            secondLargest = firstLargest\n",
    "            firstLargest = num\n",
    "        # 否則，如果當前數字介於第一大和第二大之間，則更新第二大和第三大的數字\n",
    "        elif num > secondLargest:\n",
    "            thirdLargest = secondLargest\n",
    "            secondLargest = num\n",
    "        # 否則，如果當前數字介於第二大和第三大之間，則只更新第三大的數字\n",
    "        elif num > thirdLargest:\n",
    "            thirdLargest = num\n",
    "\n",
    "    # 返回最大的三個數字\n",
    "    return [thirdLargest, secondLargest, firstLargest]\n",
    "\n",
    "# 範例使用\n",
    "array = [5, 10, 15, 20, 25]\n",
    "print(\"最大的三個數字為:\", findThreeLargestNumbers(array))"
   ]
  },
  {
   "cell_type": "markdown",
   "id": "f3925fdd",
   "metadata": {},
   "source": [
    "---"
   ]
  },
  {
   "cell_type": "markdown",
   "id": "6dba5e34",
   "metadata": {},
   "source": [
    "# Search In Sorted Matrix"
   ]
  },
  {
   "cell_type": "markdown",
   "id": "bf45cd66",
   "metadata": {},
   "source": [
    "O(n + m) Time | O(1)"
   ]
  },
  {
   "cell_type": "code",
   "execution_count": 11,
   "id": "ed30294f",
   "metadata": {},
   "outputs": [
    {
     "name": "stdout",
     "output_type": "stream",
     "text": [
      "目标值 5 是否在矩阵中存在: 5\n"
     ]
    }
   ],
   "source": [
    "# ChatGPT\n",
    "def search_sorted_matrix(matrix, target):\n",
    "    if not matrix or not matrix[0]:\n",
    "        return False  # 如果矩阵为空或者是空矩阵，则返回False\n",
    "\n",
    "    rows, cols = len(matrix), len(matrix[0])  # 获取矩阵的行数和列数\n",
    "    row, col = 0, cols - 1  # 从矩阵的右上角开始搜索\n",
    "\n",
    "    while row < rows and col >= 0:\n",
    "        if matrix[row][col] == target:\n",
    "            return True  # 如果找到目标值，则返回True\n",
    "        elif matrix[row][col] < target:\n",
    "            row += 1  # 如果当前元素小于目标值，则向下移动一行\n",
    "        else:\n",
    "            col -= 1  # 如果当前元素大于目标值，则向左移动一列\n",
    "\n",
    "    return False  # 如果遍历完整个矩阵都没有找到目标值，则返回False\n",
    "\n",
    "# 示例矩阵\n",
    "matrix = [\n",
    "    [1, 4, 7, 11, 15],\n",
    "    [2, 5, 8, 12, 19],\n",
    "    [3, 6, 9, 16, 22],\n",
    "    [10, 13, 14, 17, 24],\n",
    "    [18, 21, 23, 26, 30]\n",
    "]\n",
    "\n",
    "target = 5\n",
    "print(\"目标值 {} 是否在矩阵中存在: {}\".format(target, search_sorted_matrix(matrix, target)))\n"
   ]
  },
  {
   "cell_type": "code",
   "execution_count": 15,
   "id": "d45bc8ce",
   "metadata": {},
   "outputs": [
    {
     "name": "stdout",
     "output_type": "stream",
     "text": [
      "[-1, -1]\n"
     ]
    }
   ],
   "source": [
    "# AlgoExpert\n",
    "def searchInSortedMatrix(matrix, target):\n",
    "\trow = 0\n",
    "\tcolumn = len(matrix[0]) - 1\n",
    "\twhile row < len(matrix) and column >= 0:\n",
    "\t\tif matrix[row][column] > target:\n",
    "\t\t\tcolumn -= 1\n",
    "\t\telif matrix[row][column] < target:\n",
    "\t\t\trow += 1\n",
    "\t\telse:\n",
    "\t\t\treturn [row, column]\n",
    "\t\t\n",
    "\treturn [-1, -1]\n",
    "\n",
    "matrix = [\n",
    "    [1, 4, 7, 11, 15],\n",
    "    [2, 5, 8, 12, 19],\n",
    "    [3, 6, 9, 16, 22],\n",
    "    [10, 13, 14, 17, 24],\n",
    "    [18, 21, 23, 26, 30]\n",
    "]\n",
    "\n",
    "target = 31\n",
    "\n",
    "print(searchInSortedMatrix(matrix, target))"
   ]
  },
  {
   "cell_type": "markdown",
   "id": "0a966a9e",
   "metadata": {},
   "source": [
    "---"
   ]
  },
  {
   "cell_type": "markdown",
   "id": "33551192",
   "metadata": {},
   "source": [
    "# Shifted Binary Search"
   ]
  },
  {
   "cell_type": "markdown",
   "id": "0ad84a3e",
   "metadata": {},
   "source": [
    "O(log(n)) Time | O(log(n))"
   ]
  },
  {
   "cell_type": "code",
   "execution_count": 16,
   "id": "1616f03c",
   "metadata": {},
   "outputs": [],
   "source": [
    "def shiftedBinarySearch(array, target):\n",
    "\treturn shiftedHelper(array, target, 0, len(array)-1)\n",
    "\n",
    "def shiftedHelper(array, target, left, right):\n",
    "\tif left > right :\n",
    "\t\treturn -1\n",
    "\tmiddle = (left + right) // 2\n",
    "\tpotentialNum = array[middle]\n",
    "\tleftNum = array[left]\n",
    "\trightNum = array[right]\n",
    "\tif target == potentialNum:\n",
    "\t\treturn middle\n",
    "\telif leftNum <= potentialNum:\n",
    "\t\tif target < potentialNum and target >= leftNum:\n",
    "\t\t\treturn shiftedHelper(array, target, left, middle-1)\n",
    "\t\telse:\n",
    "\t\t\treturn shiftedHelper(array, target, middle+1, right)\n",
    "\telse:\n",
    "\t\tif target > potentialNum and target <= rightNum:\n",
    "\t\t\treturn shiftedHelper(array, target, middle+1, right)\n",
    "\t\telse:\n",
    "\t\t\treturn shiftedHelper(array, target, left, middle-1)"
   ]
  },
  {
   "cell_type": "code",
   "execution_count": null,
   "id": "49181644",
   "metadata": {},
   "outputs": [],
   "source": []
  }
 ],
 "metadata": {
  "kernelspec": {
   "display_name": "Python 3 (ipykernel)",
   "language": "python",
   "name": "python3"
  },
  "language_info": {
   "codemirror_mode": {
    "name": "ipython",
    "version": 3
   },
   "file_extension": ".py",
   "mimetype": "text/x-python",
   "name": "python",
   "nbconvert_exporter": "python",
   "pygments_lexer": "ipython3",
   "version": "3.11.2"
  }
 },
 "nbformat": 4,
 "nbformat_minor": 5
}
