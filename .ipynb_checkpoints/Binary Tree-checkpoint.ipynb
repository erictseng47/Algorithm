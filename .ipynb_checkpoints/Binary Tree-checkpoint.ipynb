{
 "cells": [
  {
   "cell_type": "markdown",
   "id": "ee686245",
   "metadata": {},
   "source": [
    "# DFS(Depth First Search)"
   ]
  },
  {
   "cell_type": "markdown",
   "id": "7c71a0d2",
   "metadata": {},
   "source": [
    "- 時間複雜度：`O(V+E)`\n",
    "- 空間複雜度：`O(logV)`（訪問至末端節點後LIFO，Stack最多只會同時存在logV個節點，也就是樹的高度）\n",
    "- 為了解Maze Problem而生的演算法\n",
    "- 效能比BFS稍佳\n",
    "- 使用LIFO的Stack來實作"
   ]
  },
  {
   "cell_type": "markdown",
   "id": "24686e9b",
   "metadata": {},
   "source": [
    "## 應用\n",
    "\n",
    "- 拓撲排序 Topological Order\n",
    "- Kosaraju演算法: 推薦系統 Recommand System\n",
    "- 判斷Grapth是否有cycle(DAG)\n",
    "- Maze"
   ]
  },
  {
   "cell_type": "code",
   "execution_count": 1,
   "id": "a049c770",
   "metadata": {},
   "outputs": [],
   "source": [
    "class DFS:\n",
    "    \"\"\"\n",
    "    For BFS, use queue; For DFS, use stack / recursion(os stack)\n",
    "    \"\"\"\n",
    "    def __init__(self, start):\n",
    "        self.start = start\n",
    " \n",
    "    def traversal(self):\n",
    "        interface = self.stack()\n",
    "        interface(self.start)\n",
    "        return self.result\n",
    " \n",
    "    def stack(self):\n",
    "        self.result = []\n",
    "        def interface(node):\n",
    "            self.result.append(node)            \n",
    "            node.visited = True\n",
    "            for n in node.neighbors:\n",
    "                if not n.visited:\n",
    "                    interface(n) \n",
    "        return interface"
   ]
  },
  {
   "cell_type": "code",
   "execution_count": 4,
   "id": "d3f9733d",
   "metadata": {},
   "outputs": [
    {
     "name": "stdout",
     "output_type": "stream",
     "text": [
      "[1, 2, 4, 3]\n"
     ]
    }
   ],
   "source": [
    "class Node:\n",
    "    def __init__(self, value):\n",
    "        self.value = value\n",
    "        self.neighbors = []\n",
    "        self.visited = False\n",
    "\n",
    "# 創建節點\n",
    "node1 = Node(1)\n",
    "node2 = Node(2)\n",
    "node3 = Node(3)\n",
    "node4 = Node(4)\n",
    "\n",
    "# 建立節點之間的關係\n",
    "node1.neighbors = [node2, node3]\n",
    "node2.neighbors = [node4]\n",
    "node3.neighbors = [node4]\n",
    "\n",
    "# 創建DFS實例並執行遍歷\n",
    "dfs = DFS(node1)\n",
    "result = dfs.traversal()\n",
    "print(result)  # 輸出遍歷結果：[1, 2, 4, 3]"
   ]
  },
  {
   "cell_type": "code",
   "execution_count": 15,
   "id": "acfda043",
   "metadata": {},
   "outputs": [
    {
     "name": "stdout",
     "output_type": "stream",
     "text": [
      "{'A'}\n",
      "{'A', 'B'}\n",
      "{'D', 'A', 'B'}\n",
      "{'D', 'A', 'E', 'B'}\n",
      "{'A', 'B', 'E', 'D', 'F'}\n",
      "{'A', 'B', 'E', 'C', 'D', 'F'}\n"
     ]
    }
   ],
   "source": [
    "def dfs(graph, start, visited=None):\n",
    "    if visited is None:\n",
    "        visited = set()\n",
    "    visited.add(start)\n",
    "    print(visited)\n",
    "    for neighbor in graph[start]:\n",
    "        if neighbor not in visited:\n",
    "            dfs(graph, neighbor, visited)\n",
    "\n",
    "# 範例圖\n",
    "graph = {\n",
    "    'A': ['B', 'C'],\n",
    "    'B': ['D', 'E'],\n",
    "    'C': ['F'],\n",
    "    'D': [],\n",
    "    'E': ['F'],\n",
    "    'F': []\n",
    "}\n",
    "\n",
    "dfs(graph, 'A')\n"
   ]
  }
 ],
 "metadata": {
  "kernelspec": {
   "display_name": "Python 3 (ipykernel)",
   "language": "python",
   "name": "python3"
  },
  "language_info": {
   "codemirror_mode": {
    "name": "ipython",
    "version": 3
   },
   "file_extension": ".py",
   "mimetype": "text/x-python",
   "name": "python",
   "nbconvert_exporter": "python",
   "pygments_lexer": "ipython3",
   "version": "3.11.2"
  }
 },
 "nbformat": 4,
 "nbformat_minor": 5
}
