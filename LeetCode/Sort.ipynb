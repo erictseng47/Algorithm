{
 "cells": [
  {
   "cell_type": "markdown",
   "id": "efd4a93d",
   "metadata": {},
   "source": [
    "# Bubble"
   ]
  },
  {
   "cell_type": "markdown",
   "id": "a89c89da",
   "metadata": {},
   "source": [
    "- Best : O(N) Time | O(1)\n",
    "- Average : O(N^2) Time | O(1)\n",
    "- Worst : O(N^2) Time | O(1)"
   ]
  },
  {
   "cell_type": "code",
   "execution_count": 2,
   "id": "fd746ba9",
   "metadata": {},
   "outputs": [],
   "source": [
    "def bubbleSort(array):\n",
    "    isSorted = False\n",
    "    \n",
    "    while not isSorted:\n",
    "        isSorted = True\n",
    "        for i in range(len(array) - 1 ):\n",
    "            if array[i] > array[i + 1]:\n",
    "                swap(i, i+1 , array)\n",
    "                isSorted = False\n",
    "\n",
    "    return array\n",
    "\n",
    "def swap(i, j, array):\n",
    "    array[i], array[j] = array[j], array[i]"
   ]
  },
  {
   "cell_type": "markdown",
   "id": "c7ccc944",
   "metadata": {},
   "source": [
    "---"
   ]
  },
  {
   "cell_type": "markdown",
   "id": "2d36ea83",
   "metadata": {},
   "source": [
    "# Insertion"
   ]
  },
  {
   "cell_type": "markdown",
   "id": "ad6ef016",
   "metadata": {},
   "source": [
    "- Best : O(N) Time | O(1)\n",
    "- Average : O(N^2) Time | O(1)\n",
    "- Worst : O(N^2) Time | O(1)"
   ]
  },
  {
   "cell_type": "code",
   "execution_count": 4,
   "id": "536298e5",
   "metadata": {},
   "outputs": [],
   "source": [
    "def insertionSort(array):\n",
    "    for i in range(1, len(array)):\n",
    "        j = i\n",
    "        while j > 0 and array[j] < array[j-1]:\n",
    "            swap(j, j-1, array)\n",
    "            j -= 1\n",
    "    return array\n",
    "\n",
    "def swap(i, j, array):\n",
    "    array[i], array[j] = array[j], array[i]"
   ]
  },
  {
   "cell_type": "markdown",
   "id": "ed3f7387",
   "metadata": {},
   "source": [
    "---"
   ]
  },
  {
   "cell_type": "code",
   "execution_count": null,
   "id": "49daf632",
   "metadata": {},
   "outputs": [],
   "source": []
  }
 ],
 "metadata": {
  "kernelspec": {
   "display_name": "Python 3 (ipykernel)",
   "language": "python",
   "name": "python3"
  },
  "language_info": {
   "codemirror_mode": {
    "name": "ipython",
    "version": 3
   },
   "file_extension": ".py",
   "mimetype": "text/x-python",
   "name": "python",
   "nbconvert_exporter": "python",
   "pygments_lexer": "ipython3",
   "version": "3.11.2"
  }
 },
 "nbformat": 4,
 "nbformat_minor": 5
}
