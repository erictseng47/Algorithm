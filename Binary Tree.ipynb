{
 "cells": [
  {
   "cell_type": "markdown",
   "id": "ee686245",
   "metadata": {},
   "source": [
    "# DFS(Depth First Search)"
   ]
  },
  {
   "cell_type": "markdown",
   "id": "7c71a0d2",
   "metadata": {},
   "source": [
    "- 時間複雜度：`O(V+E)`\n",
    "- 空間複雜度：`O(logV)`（訪問至末端節點後LIFO，Stack最多只會同時存在logV個節點，也就是樹的高度）\n",
    "- 為了解Maze Problem而生的演算法\n",
    "- 效能比BFS稍佳\n",
    "- 使用LIFO的Stack來實作"
   ]
  },
  {
   "cell_type": "markdown",
   "id": "24686e9b",
   "metadata": {},
   "source": [
    "## 應用\n",
    "\n",
    "- 拓撲排序 Topological Order\n",
    "- Kosaraju演算法: 推薦系統 Recommand System\n",
    "- 判斷Grapth是否有cycle(DAG)\n",
    "- Maze"
   ]
  },
  {
   "cell_type": "code",
   "execution_count": 1,
   "id": "a049c770",
   "metadata": {},
   "outputs": [],
   "source": [
    "class DFS:\n",
    "    \"\"\"\n",
    "    For BFS, use queue; For DFS, use stack / recursion(os stack)\n",
    "    \"\"\"\n",
    "    def __init__(self, start):\n",
    "        self.start = start\n",
    " \n",
    "    def traversal(self):\n",
    "        interface = self.stack()\n",
    "        interface(self.start)\n",
    "        return self.result\n",
    " \n",
    "    def stack(self):\n",
    "        self.result = []\n",
    "        def interface(node):\n",
    "            self.result.append(node)            \n",
    "            node.visited = True\n",
    "            for n in node.neighbors:\n",
    "                if not n.visited:\n",
    "                    interface(n) \n",
    "        return interface"
   ]
  },
  {
   "cell_type": "code",
   "execution_count": 4,
   "id": "d3f9733d",
   "metadata": {},
   "outputs": [
    {
     "name": "stdout",
     "output_type": "stream",
     "text": [
      "[1, 2, 4, 3]\n"
     ]
    }
   ],
   "source": [
    "class Node:\n",
    "    def __init__(self, value):\n",
    "        self.value = value\n",
    "        self.neighbors = []\n",
    "        self.visited = False\n",
    "\n",
    "# 創建節點\n",
    "node1 = Node(1)\n",
    "node2 = Node(2)\n",
    "node3 = Node(3)\n",
    "node4 = Node(4)\n",
    "\n",
    "# 建立節點之間的關係\n",
    "node1.neighbors = [node2, node3]\n",
    "node2.neighbors = [node4]\n",
    "node3.neighbors = [node4]\n",
    "\n",
    "# 創建DFS實例並執行遍歷\n",
    "dfs = DFS(node1)\n",
    "result = dfs.traversal()\n",
    "print(result)  # 輸出遍歷結果：[1, 2, 4, 3]"
   ]
  },
  {
   "cell_type": "code",
   "execution_count": 15,
   "id": "acfda043",
   "metadata": {},
   "outputs": [
    {
     "name": "stdout",
     "output_type": "stream",
     "text": [
      "{'A'}\n",
      "{'A', 'B'}\n",
      "{'D', 'A', 'B'}\n",
      "{'D', 'A', 'E', 'B'}\n",
      "{'A', 'B', 'E', 'D', 'F'}\n",
      "{'A', 'B', 'E', 'C', 'D', 'F'}\n"
     ]
    }
   ],
   "source": [
    "def dfs(graph, start, visited=None):\n",
    "    if visited is None:\n",
    "        visited = set()\n",
    "    visited.add(start)\n",
    "    print(visited)\n",
    "    for neighbor in graph[start]:\n",
    "        if neighbor not in visited:\n",
    "            dfs(graph, neighbor, visited)\n",
    "\n",
    "# 範例圖\n",
    "graph = {\n",
    "    'A': ['B', 'C'],\n",
    "    'B': ['D', 'E'],\n",
    "    'C': ['F'],\n",
    "    'D': [],\n",
    "    'E': ['F'],\n",
    "    'F': []\n",
    "}\n",
    "\n",
    "dfs(graph, 'A')\n"
   ]
  },
  {
   "cell_type": "markdown",
   "id": "75cb9870",
   "metadata": {},
   "source": [
    "---"
   ]
  },
  {
   "cell_type": "markdown",
   "id": "4098604d",
   "metadata": {},
   "source": [
    "# BFS(Breadth First Search)"
   ]
  },
  {
   "cell_type": "markdown",
   "id": "9993c540",
   "metadata": {},
   "source": [
    "- 時間複雜度：`O(V+E)`（分別遍歷所有節點和各節點的所有鄰居）\n",
    "- 空間複雜度：`O(V)`（Queue中最多可能存放所有節點）\n",
    "- 用於有效率的迭代(traversal)\n",
    "- 迭代的方式為鄰近的先訪問(level-ordered)\n",
    "- 劣勢在於儲存指標記憶體空間，有時用DFS替代\n",
    "- 使用FIFO的Queue來實作，Queue為空代表完成迭代"
   ]
  },
  {
   "cell_type": "markdown",
   "id": "41aa1438",
   "metadata": {},
   "source": [
    "## 應用\n",
    "\n",
    "- machine learning\n",
    "- Edmonds-Karp演算法\n",
    "- Cheney演算法"
   ]
  },
  {
   "cell_type": "code",
   "execution_count": 14,
   "id": "d7de2e78",
   "metadata": {},
   "outputs": [
    {
     "name": "stdout",
     "output_type": "stream",
     "text": [
      "<__main__.Node object at 0x11ae01a50>\n",
      "<__main__.Node object at 0x11ae01d10>\n",
      "<__main__.Node object at 0x11ae01610>\n",
      "<__main__.Node object at 0x11ae01e10>\n",
      "<__main__.Node object at 0x11ae01f10>\n",
      "None\n"
     ]
    }
   ],
   "source": [
    "class BFS:\n",
    "    \"\"\"\n",
    "    For BFS, use queue; For DFS, use stack or recursion\n",
    "    \"\"\"\n",
    "    def __init__(self, start):\n",
    "        self.queue = []\n",
    "        self.start = start\n",
    " \n",
    "    def traversal(self):\n",
    "        self.start.visited = True\n",
    "        self.queue.append(self.start)\n",
    " \n",
    "        while self.queue:  # O(V)\n",
    " \n",
    "            node = self.queue.pop(0)\n",
    "            print(node)\n",
    " \n",
    "            for n in node.neighbors:  # O(E)\n",
    "                if not n.visited:\n",
    "                    n.visited = True\n",
    "                    self.queue.append(n)\n",
    "                    \n",
    "class Node:\n",
    "    def __init__(self, value):\n",
    "        self.value = value\n",
    "        self.neighbors = []\n",
    "        self.visited = False\n",
    "\n",
    "# 創建節點\n",
    "node_a = Node('A')\n",
    "node_b = Node('B')\n",
    "node_c = Node('C')\n",
    "node_d = Node('D')\n",
    "node_e = Node('E')\n",
    "\n",
    "# 建立節點之間的關係\n",
    "node_a.neighbors = [node_b, node_c]\n",
    "node_b.neighbors = [node_d]\n",
    "node_c.neighbors = [node_e]\n",
    "\n",
    "# 創建 BFS 實例\n",
    "bfs = BFS(node_a)\n",
    "result = bfs.traversal()\n",
    "print(result)\n",
    "# 遍歷節點並輸出\n",
    "#for node in bfs.traversal():\n",
    "#    print(node.value)\n"
   ]
  },
  {
   "cell_type": "code",
   "execution_count": 3,
   "id": "cb63466c",
   "metadata": {},
   "outputs": [
    {
     "name": "stdout",
     "output_type": "stream",
     "text": [
      "A ['A', 'B']\n",
      "['A', 'B', 'C']\n",
      "B ['A', 'B', 'C', 'D']\n",
      "['A', 'B', 'C', 'D', 'E']\n",
      "C ['A', 'B', 'C', 'D', 'E', 'F']\n",
      "D E F "
     ]
    }
   ],
   "source": [
    "graph = {\n",
    "  'A' : ['B','C'],\n",
    "  'B' : ['D', 'E'],\n",
    "  'C' : ['F'],\n",
    "  'D' : [],\n",
    "  'E' : ['F'],\n",
    "  'F' : []\n",
    "}\n",
    "\n",
    "visited = [] # List to keep track of visited nodes.\n",
    "queue = []     #Initialize a queue\n",
    "\n",
    "def bfs(visited, graph, node):\n",
    "  visited.append(node)\n",
    "  queue.append(node)\n",
    "\n",
    "  while queue:\n",
    "    s = queue.pop(0)\n",
    "    print (s, end = \" \")\n",
    "\n",
    "    for neighbour in graph[s]:\n",
    "      if neighbour not in visited:\n",
    "        visited.append(neighbour)\n",
    "        print(visited)\n",
    "        queue.append(neighbour)\n",
    "\n",
    "# Driver Code\n",
    "bfs(visited, graph, 'A')"
   ]
  }
 ],
 "metadata": {
  "kernelspec": {
   "display_name": "Python 3 (ipykernel)",
   "language": "python",
   "name": "python3"
  },
  "language_info": {
   "codemirror_mode": {
    "name": "ipython",
    "version": 3
   },
   "file_extension": ".py",
   "mimetype": "text/x-python",
   "name": "python",
   "nbconvert_exporter": "python",
   "pygments_lexer": "ipython3",
   "version": "3.11.2"
  }
 },
 "nbformat": 4,
 "nbformat_minor": 5
}
