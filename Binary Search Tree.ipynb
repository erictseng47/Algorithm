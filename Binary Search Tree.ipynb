{
 "cells": [
  {
   "cell_type": "markdown",
   "id": "d3c56eac",
   "metadata": {},
   "source": [
    "With the characteristics of a Binary Tree, each node has at most two child nodes. In addition, the left child node must be smaller than the root node, and the right child node must be greater than the root node. Therefore, the leftmost node in the entire tree must be the smallest, and the rightmost node must be the largest. Also, due to the characteristics of a Binary Search Tree, the time complexity for inserting nodes, deleting nodes, and searching for nodes is O(log n)."
   ]
  },
  {
   "cell_type": "markdown",
   "id": "1d11093a",
   "metadata": {},
   "source": [
    "# Validate BST"
   ]
  },
  {
   "cell_type": "code",
   "execution_count": 1,
   "id": "43d6d7f9",
   "metadata": {},
   "outputs": [],
   "source": [
    "class BST:\n",
    "    def __init__(self, value):\n",
    "        self.value = value\n",
    "        self.left = None\n",
    "        self.right = None\n",
    "\n",
    "\n",
    "def validateBst(tree):\n",
    "    return helper(tree, float(\"-inf\"), float(\"inf\")) #float(”inf”) is mean infinite value\n",
    "\n",
    "def helper(tree, minvalue, maxvalue):\n",
    "    if tree is None:\n",
    "        return True\n",
    "    if tree.value < minvalue or tree.value >= maxvalue:\n",
    "        return False\n",
    "        print(minvalue)\n",
    "    leftTree = helper(tree.left, minvalue, tree.value)\n",
    "    rightTree = helper(tree.right, tree.value, maxvalue)\n",
    "    \n",
    "    return leftTree and rightTree"
   ]
  },
  {
   "cell_type": "markdown",
   "id": "6ae314bc",
   "metadata": {},
   "source": [
    "---"
   ]
  },
  {
   "cell_type": "markdown",
   "id": "817ebc68",
   "metadata": {},
   "source": [
    "# BST Traversal"
   ]
  },
  {
   "cell_type": "markdown",
   "id": "b9280182",
   "metadata": {},
   "source": [
    "figure out the in-order, pre-order and post-order discipline"
   ]
  },
  {
   "cell_type": "code",
   "execution_count": 2,
   "id": "310e9e9a",
   "metadata": {},
   "outputs": [
    {
     "name": "stdout",
     "output_type": "stream",
     "text": [
      "Inorder Traversal: [2, 1, 3]\n",
      "Preorder Traversal: [1, 2, 3]\n",
      "Postorder Traversal: [2, 3, 1]\n"
     ]
    }
   ],
   "source": [
    "class TreeNode:\n",
    "    def __init__(self, val=0, left=None, right=None):\n",
    "        self.val = val\n",
    "        self.left = left\n",
    "        self.right = right\n",
    "\n",
    "def inorder_traversal(root):\n",
    "    if root is None:\n",
    "        return []\n",
    "    return inorder_traversal(root.left) + [root.val] + inorder_traversal(root.right)\n",
    "\n",
    "def preorder_traversal(root):\n",
    "    if root is None:\n",
    "        return []\n",
    "    return [root.val] + preorder_traversal(root.left) + preorder_traversal(root.right)\n",
    "\n",
    "def postorder_traversal(root):\n",
    "    if root is None:\n",
    "        return []\n",
    "    return postorder_traversal(root.left) + postorder_traversal(root.right) + [root.val]\n",
    "\n",
    "# 创建示例二叉树\n",
    "tree = TreeNode(1)\n",
    "tree.left = TreeNode(2)\n",
    "tree.right = TreeNode(3)\n",
    "\n",
    "# 中序遍历\n",
    "print(\"Inorder Traversal:\", inorder_traversal(tree))  # 输出: [2, 1, 3]\n",
    "\n",
    "# 前序遍历\n",
    "print(\"Preorder Traversal:\", preorder_traversal(tree))  # 输出: [1, 2, 3]\n",
    "\n",
    "# 后序遍历\n",
    "print(\"Postorder Traversal:\", postorder_traversal(tree))  # 输出: [2, 3, 1]"
   ]
  },
  {
   "cell_type": "markdown",
   "id": "74a541ef",
   "metadata": {},
   "source": [
    "---"
   ]
  },
  {
   "cell_type": "markdown",
   "id": "aa4713e2",
   "metadata": {},
   "source": [
    "# Min Height BST"
   ]
  },
  {
   "cell_type": "code",
   "execution_count": null,
   "id": "1c1fbcc7",
   "metadata": {},
   "outputs": [],
   "source": []
  }
 ],
 "metadata": {
  "kernelspec": {
   "display_name": "Python 3 (ipykernel)",
   "language": "python",
   "name": "python3"
  },
  "language_info": {
   "codemirror_mode": {
    "name": "ipython",
    "version": 3
   },
   "file_extension": ".py",
   "mimetype": "text/x-python",
   "name": "python",
   "nbconvert_exporter": "python",
   "pygments_lexer": "ipython3",
   "version": "3.11.2"
  }
 },
 "nbformat": 4,
 "nbformat_minor": 5
}
