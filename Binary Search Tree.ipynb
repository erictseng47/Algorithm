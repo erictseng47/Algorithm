{
 "cells": [
  {
   "cell_type": "markdown",
   "id": "d3c56eac",
   "metadata": {},
   "source": [
    "With the characteristics of a Binary Tree, each node has at most two child nodes. In addition, the left child node must be smaller than the root node, and the right child node must be greater than the root node. Therefore, the leftmost node in the entire tree must be the smallest, and the rightmost node must be the largest. Also, due to the characteristics of a Binary Search Tree, the time complexity for inserting nodes, deleting nodes, and searching for nodes is O(log n)."
   ]
  },
  {
   "cell_type": "markdown",
   "id": "1d11093a",
   "metadata": {},
   "source": [
    "# Validate BST"
   ]
  },
  {
   "cell_type": "code",
   "execution_count": 1,
   "id": "43d6d7f9",
   "metadata": {},
   "outputs": [],
   "source": [
    "class BST:\n",
    "    def __init__(self, value):\n",
    "        self.value = value\n",
    "        self.left = None\n",
    "        self.right = None\n",
    "\n",
    "\n",
    "def validateBst(tree):\n",
    "    return helper(tree, float(\"-inf\"), float(\"inf\")) #float(”inf”) is mean infinite value\n",
    "\n",
    "def helper(tree, minvalue, maxvalue):\n",
    "    if tree is None:\n",
    "        return True\n",
    "    if tree.value < minvalue or tree.value >= maxvalue:\n",
    "        return False\n",
    "        print(minvalue)\n",
    "    leftTree = helper(tree.left, minvalue, tree.value)\n",
    "    rightTree = helper(tree.right, tree.value, maxvalue)\n",
    "    \n",
    "    return leftTree and rightTree"
   ]
  },
  {
   "cell_type": "markdown",
   "id": "6ae314bc",
   "metadata": {},
   "source": [
    "---"
   ]
  },
  {
   "cell_type": "markdown",
   "id": "817ebc68",
   "metadata": {},
   "source": [
    "# BST Traversal"
   ]
  },
  {
   "cell_type": "markdown",
   "id": "b9280182",
   "metadata": {},
   "source": [
    "figure out the in-order, pre-order and post-order discipline"
   ]
  },
  {
   "cell_type": "code",
   "execution_count": 2,
   "id": "310e9e9a",
   "metadata": {
    "scrolled": true
   },
   "outputs": [
    {
     "name": "stdout",
     "output_type": "stream",
     "text": [
      "Inorder Traversal: [2, 1, 3]\n",
      "Preorder Traversal: [1, 2, 3]\n",
      "Postorder Traversal: [2, 3, 1]\n"
     ]
    }
   ],
   "source": [
    "class TreeNode:\n",
    "    def __init__(self, val=0, left=None, right=None):\n",
    "        self.val = val\n",
    "        self.left = left\n",
    "        self.right = right\n",
    "\n",
    "def inorder_traversal(root):\n",
    "    if root is None:\n",
    "        return []\n",
    "    return inorder_traversal(root.left) + [root.val] + inorder_traversal(root.right)\n",
    "\n",
    "def preorder_traversal(root):\n",
    "    if root is None:\n",
    "        return []\n",
    "    return [root.val] + preorder_traversal(root.left) + preorder_traversal(root.right)\n",
    "\n",
    "def postorder_traversal(root):\n",
    "    if root is None:\n",
    "        return []\n",
    "    return postorder_traversal(root.left) + postorder_traversal(root.right) + [root.val]\n",
    "\n",
    "# 创建示例二叉树\n",
    "tree = TreeNode(1)\n",
    "tree.left = TreeNode(2)\n",
    "tree.right = TreeNode(3)\n",
    "\n",
    "# 中序遍历\n",
    "print(\"Inorder Traversal:\", inorder_traversal(tree))  # 输出: [2, 1, 3]\n",
    "\n",
    "# 前序遍历\n",
    "print(\"Preorder Traversal:\", preorder_traversal(tree))  # 输出: [1, 2, 3]\n",
    "\n",
    "# 后序遍历\n",
    "print(\"Postorder Traversal:\", postorder_traversal(tree))  # 输出: [2, 3, 1]"
   ]
  },
  {
   "cell_type": "markdown",
   "id": "74a541ef",
   "metadata": {},
   "source": [
    "---"
   ]
  },
  {
   "cell_type": "markdown",
   "id": "aa4713e2",
   "metadata": {},
   "source": [
    "# Min Height BST"
   ]
  },
  {
   "cell_type": "code",
   "execution_count": 1,
   "id": "1c1fbcc7",
   "metadata": {},
   "outputs": [],
   "source": [
    "def minHeightBst(array):\n",
    "    return constructMinHeightBst(array, 0, len(array) - 1)\n",
    "\n",
    "def constructMinHeightBst(array, startIdx, endIdx):\n",
    "        if endIdx < startIdx:\n",
    "                return None\n",
    "        midIdx = (startIdx + endIdx) // 2\n",
    "        bst = BST(array[midIdx])\n",
    "        bst.left = constructMinHeightBst(array, startIdx, midIdx - 1)\n",
    "        bst.right = constructMinHeightBst(array, midIdx + 1, endIdx)\n",
    "        return bst\n",
    "\n",
    "\n",
    "class BST:\n",
    "    def __init__(self, value):\n",
    "        self.value = value\n",
    "        self.left = None\n",
    "        self.right = None\n",
    "\n",
    "    def insert(self, value):\n",
    "        if value < self.value:\n",
    "            if self.left is None:\n",
    "                self.left = BST(value)\n",
    "            else:\n",
    "                self.left.insert(value)\n",
    "        else:\n",
    "            if self.right is None:\n",
    "                self.right = BST(value)\n",
    "            else:\n",
    "                self.right.insert(value)"
   ]
  },
  {
   "cell_type": "code",
   "execution_count": 2,
   "id": "46cd7a03",
   "metadata": {},
   "outputs": [],
   "source": [
    "def minHeightBst(array):\n",
    "    return helper(array, None, 0, len(array) - 1)\n",
    "\n",
    "def helper(array, bst, startIdx, endIdx):\n",
    "    if endIdx < startIdx:\n",
    "        return None\n",
    "    midIdx = (startIdx + endIdx) // 2\n",
    "    newValue = array[midIdx]\n",
    "    if bst is None:\n",
    "        bst = BST(newValue)\n",
    "    else:\n",
    "        bst.insert(newValue)\n",
    "    helper(array, bst, startIdx, midIdx - 1)\n",
    "    helper(array, bst, midIdx + 1, endIdx)\n",
    "    return bst\n",
    "\n",
    "\n",
    "class BST:\n",
    "    def __init__(self, value):\n",
    "        self.value = value\n",
    "        self.left = None\n",
    "        self.right = None\n",
    "\n",
    "    def insert(self, value):\n",
    "        if value < self.value:\n",
    "            if self.left is None:\n",
    "                self.left = BST(value)\n",
    "            else:\n",
    "                self.left.insert(value)\n",
    "        else:\n",
    "            if self.right is None:\n",
    "                self.right = BST(value)\n",
    "            else:\n",
    "                self.right.insert(value)"
   ]
  },
  {
   "cell_type": "code",
   "execution_count": 3,
   "id": "15ee5d6e",
   "metadata": {},
   "outputs": [],
   "source": [
    "def minHeightBst(array):\n",
    "    return helper(array, None, 0, len(array) - 1)\n",
    "\n",
    "def helper(array, bst, startIdx, endIdx):\n",
    "    if endIdx < startIdx:\n",
    "        return None\n",
    "    midIdx = (startIdx + endIdx) // 2\n",
    "    midValue = array[midIdx]\n",
    "    newBst = BST(midValue)\n",
    "    if bst is None:\n",
    "        bst = newBst\n",
    "    else:\n",
    "        if midValue < bst.value:\n",
    "            bst.left = newBst\n",
    "            bst = bst.left\n",
    "        else:\n",
    "            bst.right = newBst\n",
    "            bst = bst.right\n",
    "    helper(array, bst, startIdx, midIdx - 1)\n",
    "    helper(array, bst, midIdx + 1, endIdx)\n",
    "    return bst\n",
    "        \n",
    "class BST:\n",
    "    def __init__(self, value):\n",
    "        self.value = value\n",
    "        self.left = None\n",
    "        self.right = None\n",
    "\n",
    "    def insert(self, value):\n",
    "        if value < self.value:\n",
    "            if self.left is None:\n",
    "                self.left = BST(value)\n",
    "            else:\n",
    "                self.left.insert(value)\n",
    "        else:\n",
    "            if self.right is None:\n",
    "                self.right = BST(value)\n",
    "            else:\n",
    "                self.right.insert(value)"
   ]
  },
  {
   "cell_type": "markdown",
   "id": "5f58aee0",
   "metadata": {},
   "source": [
    "---"
   ]
  },
  {
   "cell_type": "markdown",
   "id": "40ce4b8e",
   "metadata": {},
   "source": [
    "# Find Kth Largest Value in BST"
   ]
  },
  {
   "cell_type": "code",
   "execution_count": 1,
   "id": "65108340",
   "metadata": {},
   "outputs": [
    {
     "name": "stdout",
     "output_type": "stream",
     "text": [
      "第 1 大的值是: 9\n"
     ]
    }
   ],
   "source": [
    "# O(n) time | O(n) space\n",
    "class TreeNode:\n",
    "    def __init__(self, value, left=None, right=None):\n",
    "        self.value = value\n",
    "        self.left = left\n",
    "        self.right = right\n",
    "\n",
    "\n",
    "def findKthLargestValueInBst(tree, k):\n",
    "    array = []\n",
    "    inorder(tree, array)\n",
    "    return array[len(array) - k]\n",
    "\n",
    "def inorder(tree, array):\n",
    "    if tree is None:\n",
    "        return \n",
    "    inorder(tree.left, array)\n",
    "    array.append(tree.value)\n",
    "    inorder(tree.right, array)\n",
    "    \n",
    "    return array\n",
    "\n",
    "root = TreeNode(5)\n",
    "root.left = TreeNode(3)\n",
    "root.right = TreeNode(8)\n",
    "root.left.left = TreeNode(2)\n",
    "root.left.right = TreeNode(4)\n",
    "root.right.left = TreeNode(6)\n",
    "root.right.right = TreeNode(9)\n",
    "\n",
    "#        5\n",
    "#       / \\\n",
    "#      3   8\n",
    "#     / \\ / \\\n",
    "#    2  4 6  9\n",
    "\n",
    "\n",
    "# 查找第 k 大的值\n",
    "k = 1\n",
    "print(\"第\", k, \"大的值是:\", findKthLargestValueInBst(root, k))"
   ]
  },
  {
   "cell_type": "code",
   "execution_count": 5,
   "id": "ff9a96f2",
   "metadata": {},
   "outputs": [
    {
     "name": "stdout",
     "output_type": "stream",
     "text": [
      "第 2 大的值是: 8\n"
     ]
    }
   ],
   "source": [
    "# O(h+k) time | O(h) space\n",
    "class TreeNode:\n",
    "    def __init__(self, value, left=None, right=None):\n",
    "        self.value = value\n",
    "        self.left = left\n",
    "        self.right = right\n",
    "\n",
    "class TreeInfo:\n",
    "    def __init__(self, visited, latestnumber):\n",
    "        self.visited = visited\n",
    "        self.latestnumber = latestnumber\n",
    "\n",
    "def findKthLargestValueInBst(tree, k):\n",
    "    treeInfo = TreeInfo(0, None)\n",
    "    traversalBst(tree, k, treeInfo)\n",
    "    return treeInfo.latestnumber\n",
    "\n",
    "def traversalBst(node, k, treeInfo):\n",
    "    if node is None or treeInfo.visited >= k:\n",
    "        return\n",
    "    \n",
    "    traversalBst(node.right, k, treeInfo)\n",
    "    if treeInfo.visited < k:\n",
    "        treeInfo.visited += 1\n",
    "        treeInfo.latestnumber = node.value\n",
    "        traversalBst(node.left, k, treeInfo)\n",
    "\n",
    "root = TreeNode(5)\n",
    "root.left = TreeNode(3)\n",
    "root.right = TreeNode(8)\n",
    "root.left.left = TreeNode(2)\n",
    "root.left.right = TreeNode(4)\n",
    "root.right.left = TreeNode(6)\n",
    "root.right.right = TreeNode(9)\n",
    "\n",
    "#        5\n",
    "#       / \\\n",
    "#      3   8\n",
    "#     / \\ / \\\n",
    "#    2  4 6  9\n",
    "\n",
    "\n",
    "# 查找第 k 大的值\n",
    "k = 2\n",
    "print(\"第\", k, \"大的值是:\", findKthLargestValueInBst(root, k))"
   ]
  },
  {
   "cell_type": "markdown",
   "id": "745b3490",
   "metadata": {},
   "source": [
    "---"
   ]
  },
  {
   "cell_type": "markdown",
   "id": "5ed6369c",
   "metadata": {},
   "source": [
    "# Reconstruct BST "
   ]
  },
  {
   "cell_type": "code",
   "execution_count": 14,
   "id": "6b81032d",
   "metadata": {},
   "outputs": [
    {
     "name": "stdout",
     "output_type": "stream",
     "text": [
      "重建后的二叉搜索树中序遍历结果：\n",
      "1 5 7 8 10 12 "
     ]
    }
   ],
   "source": [
    "# O(n^2) Time | O(n) Space\n",
    "class BST:\n",
    "    def __init__(self, value, left=None, right=None):\n",
    "        self.value = value\n",
    "        self.left = left\n",
    "        self.right = right\n",
    "\n",
    "\n",
    "def reconstructBst(preOrderTraversalValues):\n",
    "    if len(preOrderTraversalValues) == 0:\n",
    "        return \n",
    "    \n",
    "    currentValue = preOrderTraversalValues[0]\n",
    "    rightIdx = len(preOrderTraversalValues)\n",
    "    \n",
    "    for idx in range(1, rightIdx):\n",
    "        value = preOrderTraversalValues[idx]\n",
    "        if currentValue <= value:\n",
    "            rightIdx = idx\n",
    "            break\n",
    "            \n",
    "    left = reconstructBst(preOrderTraversalValues[1:rightIdx])\n",
    "    right = reconstructBst(preOrderTraversalValues[rightIdx:])\n",
    "    return BST(currentValue, left, right)\n",
    "\n",
    "def inorder_traversal(node):\n",
    "    if node is None:\n",
    "        return\n",
    "    inorder_traversal(node.left)\n",
    "    print(node.value, end=\" \")\n",
    "    inorder_traversal(node.right)\n",
    "    \n",
    "preorder = [8, 5, 1, 7, 10, 12]\n",
    "\n",
    "# 重建二叉搜索树\n",
    "root = reconstructBst(preorder)\n",
    "\n",
    "# 中序遍历输出结果\n",
    "print(\"重建后的二叉搜索树中序遍历结果：\")\n",
    "inorder_traversal(root)"
   ]
  },
  {
   "cell_type": "code",
   "execution_count": 20,
   "id": "da4520fa",
   "metadata": {},
   "outputs": [
    {
     "name": "stdout",
     "output_type": "stream",
     "text": [
      "重建后的二叉搜索树中序遍历结果：\n",
      "1 5 7 8 10 12 "
     ]
    }
   ],
   "source": [
    "# O(n) Time | O(n) Space\n",
    "class BST:\n",
    "    def __init__(self, value, left=None, right=None):\n",
    "        self.value = value\n",
    "        self.left = left\n",
    "        self.right = right\n",
    "\n",
    "class TreeInfo:\n",
    "    def __init__(self, rootIdx):\n",
    "        self.rootIdx = rootIdx\n",
    "\n",
    "def reconstructBst(preOrderTraversalValues):\n",
    "    treeinfo = TreeInfo(0)\n",
    "    return reconstructBstFromRange(float(\"-inf\"), float(\"inf\"), preOrderTraversalValues, treeinfo)\n",
    "\n",
    "def reconstructBstFromRange(lowerBound, upperBound, preOrderTraversalValues, currentSubtreeInfo):\n",
    "    if currentSubtreeInfo.rootIdx == len(preOrderTraversalValues):\n",
    "        return \n",
    "    \n",
    "    rootValue = preOrderTraversalValues[currentSubtreeInfo.rootIdx]\n",
    "    if rootValue < lowerBound or rootValue >= upperBound:\n",
    "        return\n",
    "    \n",
    "    currentSubtreeInfo.rootIdx += 1\n",
    "    leftSubtree = reconstructBstFromRange(lowerBound, rootValue, preOrderTraversalValues, currentSubtreeInfo)\n",
    "    rightSubtree = reconstructBstFromRange(rootValue , upperBound, preOrderTraversalValues, currentSubtreeInfo)\n",
    "    return BST(rootValue, leftSubtree, rightSubtree)\n",
    "\n",
    "\n",
    "# 示例输入\n",
    "preOrderTraversalValues = [8, 5, 1, 7, 10, 12]\n",
    "\n",
    "# 重建二叉搜索树\n",
    "root = reconstructBst(preOrderTraversalValues)\n",
    "\n",
    "# 中序遍历输出结果\n",
    "def inorder_traversal(node):\n",
    "    if node is None:\n",
    "        return\n",
    "    inorder_traversal(node.left)\n",
    "    print(node.value, end=\" \")\n",
    "    inorder_traversal(node.right)\n",
    "\n",
    "print(\"重建后的二叉搜索树中序遍历结果：\")\n",
    "inorder_traversal(root)\n"
   ]
  }
 ],
 "metadata": {
  "kernelspec": {
   "display_name": "Python 3 (ipykernel)",
   "language": "python",
   "name": "python3"
  },
  "language_info": {
   "codemirror_mode": {
    "name": "ipython",
    "version": 3
   },
   "file_extension": ".py",
   "mimetype": "text/x-python",
   "name": "python",
   "nbconvert_exporter": "python",
   "pygments_lexer": "ipython3",
   "version": "3.11.2"
  }
 },
 "nbformat": 4,
 "nbformat_minor": 5
}
