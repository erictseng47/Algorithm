{
 "cells": [
  {
   "cell_type": "markdown",
   "id": "efd4a93d",
   "metadata": {},
   "source": [
    "# Bubble"
   ]
  },
  {
   "cell_type": "markdown",
   "id": "a89c89da",
   "metadata": {},
   "source": [
    "- Best : O(N) Time | O(1)\n",
    "- Average : O(N^2) Time | O(1)\n",
    "- Worst : O(N^2) Time | O(1)"
   ]
  },
  {
   "cell_type": "code",
   "execution_count": 1,
   "id": "fd746ba9",
   "metadata": {},
   "outputs": [],
   "source": [
    "def bubbleSort(array):\n",
    "    isSorted = False\n",
    "    \n",
    "    while not isSorted:\n",
    "        isSorted = True\n",
    "        for i in range(len(array) - 1 ):\n",
    "            if array[i] > array[i + 1]:\n",
    "                swap(i, i+1 , array)\n",
    "                isSorted = False\n",
    "\n",
    "    return array\n",
    "\n",
    "def swap(i, j, array):\n",
    "    array[i], array[j] = array[j], array[i]\n",
    "    "
   ]
  },
  {
   "cell_type": "markdown",
   "id": "c7ccc944",
   "metadata": {},
   "source": [
    "---"
   ]
  },
  {
   "cell_type": "markdown",
   "id": "2d36ea83",
   "metadata": {},
   "source": [
    "# Insertion"
   ]
  },
  {
   "cell_type": "markdown",
   "id": "ad6ef016",
   "metadata": {},
   "source": [
    "- Best : O(N) Time | O(1)\n",
    "- Average : O(N^2) Time | O(1)\n",
    "- Worst : O(N^2) Time | O(1)"
   ]
  },
  {
   "cell_type": "code",
   "execution_count": 2,
   "id": "536298e5",
   "metadata": {},
   "outputs": [],
   "source": [
    "def insertionSort(array):\n",
    "    for i in range(1, len(array)):\n",
    "        j = i\n",
    "        while j > 0 and array[j] < array[j-1]:\n",
    "            swap(j, j-1, array)\n",
    "            j -= 1\n",
    "    return array\n",
    "\n",
    "def swap(i, j, array):\n",
    "    array[i], array[j] = array[j], array[i]"
   ]
  },
  {
   "cell_type": "markdown",
   "id": "6e6af9bc",
   "metadata": {},
   "source": [
    "---"
   ]
  },
  {
   "cell_type": "markdown",
   "id": "142a5a0c",
   "metadata": {},
   "source": [
    "# Selection"
   ]
  },
  {
   "cell_type": "markdown",
   "id": "e3e9307e",
   "metadata": {},
   "source": [
    "- Best : O(N ^2) Time | O(1)\n",
    "- Average : O(N^2) Time | O(1)\n",
    "- Worst : O(N^2) Time | O(1)"
   ]
  },
  {
   "cell_type": "code",
   "execution_count": 3,
   "id": "45b10ca7",
   "metadata": {},
   "outputs": [],
   "source": [
    "def selectionSort(array):\n",
    "    currentIndex = 0\n",
    "    while currentIndex < len(array) - 1:\n",
    "        smallIndex = currentIndex\n",
    "        for i in range(currentIndex + 1,len(array)):\n",
    "            if array[smallIndex] > array[i]:\n",
    "                smallIndex = i\n",
    "        swap(currentIndex, smallIndex, array)\n",
    "        currentIndex += 1\n",
    "    return array\n",
    "def swap(i, j, array):\n",
    "    array[i], array[j] = array[j], array[i]"
   ]
  },
  {
   "cell_type": "markdown",
   "id": "17dbc113",
   "metadata": {},
   "source": [
    "---"
   ]
  },
  {
   "cell_type": "markdown",
   "id": "6d91729c",
   "metadata": {},
   "source": [
    "# Three Number"
   ]
  },
  {
   "cell_type": "markdown",
   "id": "3944dd3a",
   "metadata": {},
   "source": [
    "- O(n) Time | O(1)"
   ]
  },
  {
   "cell_type": "code",
   "execution_count": 4,
   "id": "c314593b",
   "metadata": {},
   "outputs": [],
   "source": [
    "# function 1\n",
    "def threeNumberSort(array, order):\n",
    "\tfirstvalue = order[0]\n",
    "\tsecondvalue = order[1]\n",
    "\t\n",
    "\tfirstidx, secondidx, thirdidx = 0, 0, len(array) - 1\n",
    "\twhile secondidx <= thirdidx:\n",
    "\t\tvalue = array[secondidx]\n",
    "\t\tif value == firstvalue:\n",
    "\t\t\tarray[firstidx], array[secondidx] = array[secondidx], array[firstidx]\n",
    "\t\t\tsecondidx += 1\n",
    "\t\t\tfirstidx += 1\n",
    "\t\telif value == secondvalue:\n",
    "\t\t\tsecondidx += 1\n",
    "\t\telse:\n",
    "\t\t\tarray[secondidx], array[thirdidx] = array[thirdidx], array[secondidx]\n",
    "\t\t\tthirdidx -= 1\n",
    "\treturn array"
   ]
  },
  {
   "cell_type": "code",
   "execution_count": 5,
   "id": "87125db0",
   "metadata": {},
   "outputs": [],
   "source": [
    "# function 2\n",
    "def threeNumberSort(array, order):\n",
    "\tfirstidx = 0\n",
    "\tlastidx = len(array) - 1\n",
    "\tfor i in range(len(array)):\n",
    "\t\tif array[i] == order[0]:\n",
    "\t\t\tswap(i, firstidx, array)\n",
    "\t\t\tfirstidx += 1\n",
    "\t\n",
    "\tfor j in range(len(array)-1,-1,-1):\n",
    "\t\tif array[j] == order[2]:\n",
    "\t\t\tswap(j, lastidx, array)\n",
    "\t\t\tlastidx -= 1\n",
    "\treturn array\n",
    "def swap(i, j, array):\n",
    "\tarray[i], array[j] = array[j], array[i]"
   ]
  },
  {
   "cell_type": "code",
   "execution_count": 6,
   "id": "8c23c5bf",
   "metadata": {},
   "outputs": [],
   "source": [
    "# function 3\n",
    "def threeNumberSort(array, order):\n",
    "\tvalueCounts = [0, 0, 0]\n",
    "\t\n",
    "\tfor element in array:\n",
    "\t\torderidx = order.index(element)\n",
    "\t\tvalueCounts[orderidx] += 1\n",
    "\t\n",
    "\tfor i in range(3):\n",
    "\t\tvalue = order[i]\n",
    "\t\tcount = valueCounts[i]\n",
    "\t\t\n",
    "\t\tnumElementsBefore = sum(valueCounts[:i])\n",
    "\t\tfor n in range(count):\n",
    "\t\t\tcurrentidx = numElementsBefore + n\n",
    "\t\t\tarray[currentidx] = value\n",
    "\treturn array"
   ]
  },
  {
   "cell_type": "markdown",
   "id": "e18242d1",
   "metadata": {},
   "source": [
    "---"
   ]
  },
  {
   "cell_type": "markdown",
   "id": "f98acc4b",
   "metadata": {},
   "source": [
    "# Quick"
   ]
  },
  {
   "cell_type": "markdown",
   "id": "270ea2f2",
   "metadata": {},
   "source": [
    "- Best : O(n log n) Time | O(log n)\n",
    "- Average : O(n long n) Time | O(log n)\n",
    "- Worst : O(n^2) Time | O(log n)"
   ]
  },
  {
   "cell_type": "code",
   "execution_count": 7,
   "id": "0b19fae1",
   "metadata": {},
   "outputs": [],
   "source": [
    "def quickSort(array):\n",
    "    quickSortHelper(array, 0, len(array) - 1)\n",
    "    return array\n",
    "def quickSortHelper(array, startIdx, endIdx):\n",
    "    if startIdx >= endIdx:\n",
    "        return\n",
    "    pivotIdx = startIdx\n",
    "    leftIdx = startIdx + 1\n",
    "    rightIdx = endIdx\n",
    "    while rightIdx >= leftIdx:\n",
    "        if array[leftIdx] > array[pivotIdx] and array[rightIdx] < array[pivotIdx]:\n",
    "            swap(leftIdx, rightIdx, array)\n",
    "        if array[leftIdx] <= array[pivotIdx]:\n",
    "            leftIdx += 1\n",
    "        if array[rightIdx] >= array[pivotIdx]:\n",
    "            rightIdx -= 1\n",
    "    swap(pivotIdx, rightIdx, array)\n",
    "    quickSortHelper(array, rightIdx + 1, endIdx)\n",
    "    quickSortHelper(array, startIdx, rightIdx - 1)\n",
    "def swap(i, j, array):\n",
    "    array[i], array[j] = array[j], array[i]"
   ]
  },
  {
   "cell_type": "markdown",
   "id": "fa514174",
   "metadata": {},
   "source": [
    "---"
   ]
  },
  {
   "cell_type": "markdown",
   "id": "78a3ec16",
   "metadata": {},
   "source": [
    "# Heap"
   ]
  },
  {
   "cell_type": "markdown",
   "id": "e4f9c0fe",
   "metadata": {},
   "source": [
    "- Best : O(n log n)Time | O(1)\n",
    "- Average : O(n log n)Time | O(1)\n",
    "- Worst : O(n^2) Time | O(1)"
   ]
  },
  {
   "cell_type": "code",
   "execution_count": 8,
   "id": "6c3313be",
   "metadata": {},
   "outputs": [],
   "source": [
    "def heapSort(array):\n",
    "    n = len(array)\n",
    "    for i in range(n // 2 - 1, -1, -1):\n",
    "        heapify(array, n, i)\n",
    "    \n",
    "    for j in range(n - 1, 0, -1):\n",
    "        swap(0, j, array)\n",
    "        heapify(array, j, 0)\n",
    "    return array\n",
    "\n",
    "def heapify(array, n, i):\n",
    "    largest = i\n",
    "    leftIdx = 2 * i + 1\n",
    "    rightIdx = 2 * i + 2\n",
    "    if leftIdx < n and array[leftIdx] > array[i]:\n",
    "        largest = leftIdx\n",
    "    if rightIdx < n and array[rightIdx] > array[largest]:\n",
    "        largest = rightIdx\n",
    "    if largest != i:\n",
    "        swap(largest, i , array)\n",
    "        heapify(array, n, largest)\n",
    "def swap(i, j, array):\n",
    "    array[i], array[j] = array[j], array[i]"
   ]
  },
  {
   "cell_type": "markdown",
   "id": "0987305c",
   "metadata": {},
   "source": [
    "---"
   ]
  },
  {
   "cell_type": "markdown",
   "id": "b96501ca",
   "metadata": {},
   "source": [
    "# Radix"
   ]
  },
  {
   "cell_type": "markdown",
   "id": "28c4ef22",
   "metadata": {},
   "source": [
    "O(d * (n + b)) Time | O(n + b)"
   ]
  },
  {
   "cell_type": "code",
   "execution_count": 9,
   "id": "8eb80c8c",
   "metadata": {},
   "outputs": [],
   "source": [
    "def radixSort(array):\n",
    "    if len(array) == 0:\n",
    "        return array\n",
    "\n",
    "    maxElement = max(array)\n",
    "    digit = 0\n",
    "    while maxElement / 10 ** digit > 0:\n",
    "        radixSorting(array, digit)\n",
    "        digit += 1\n",
    "    return array\n",
    "\n",
    "def radixSorting(array, digit):\n",
    "    sortedArray = [0] * len(array)\n",
    "    countArray = [0] * 10\n",
    "    \n",
    "    digitColumn = 10 ** digit\n",
    "    \n",
    "    for num in array:\n",
    "        countArrayIdx = (num // digitColumn) % 10\n",
    "        countArray[countArrayIdx] += 1\n",
    "\n",
    "    for i in range(1, 10):\n",
    "        countArray[i] += countArray[i-1]\n",
    "    \n",
    "    for idx in range(len(array) - 1, -1, -1):\n",
    "        countIdx = (array[idx] // digitColumn) % 10\n",
    "        countArray[countIdx] -= 1\n",
    "        sortedArrayIdx = countArray[countIdx]\n",
    "        sortedArray[sortedArrayIdx] =array[idx]\n",
    "\n",
    "    for idx in range(len(array)):\n",
    "        array[idx] = sortedArray[idx]"
   ]
  },
  {
   "cell_type": "markdown",
   "id": "03ef7227",
   "metadata": {},
   "source": [
    "---"
   ]
  },
  {
   "cell_type": "markdown",
   "id": "b7bd2ddf",
   "metadata": {},
   "source": [
    "# Merge"
   ]
  },
  {
   "cell_type": "markdown",
   "id": "3e4dc922",
   "metadata": {},
   "source": [
    "- Best : O(n log n) Time | O(n log n)\n",
    "- Average : O(n log n) Time | O(n log n)\n",
    "- Worst : O(n log n) Time | O(n log n)"
   ]
  },
  {
   "cell_type": "code",
   "execution_count": 10,
   "id": "b4fadf82",
   "metadata": {},
   "outputs": [],
   "source": [
    "def mergeSort(array):\n",
    "    if len(array) == 1: return array\n",
    "    midIdx = len(array) // 2\n",
    "    left = array[:midIdx]\n",
    "    right = array[midIdx:]\n",
    "    return mergeSortedArray(mergeSort(left), mergeSort(right))\n",
    "\n",
    "def mergeSortedArray(left, right):\n",
    "    k = i = j = 0\n",
    "    sortedarray = [None] * (len(left) + len(right))\n",
    "    while i < len(left) and j < len(right):\n",
    "        if left[i] < right[j]:\n",
    "            sortedarray[k] = left[i]\n",
    "            i += 1\n",
    "        else:\n",
    "            sortedarray[k] = right[j]\n",
    "            j += 1\n",
    "        k += 1\n",
    "    \n",
    "    while i < len(left):\n",
    "        sortedarray[k] = left[i]\n",
    "        i += 1\n",
    "        k += 1\n",
    "        \n",
    "    while j < len(right):\n",
    "        sortedarray[k] = right[j]\n",
    "        j += 1\n",
    "        k += 1\n",
    "return sortedarray\n"
   ]
  }
 ],
 "metadata": {
  "kernelspec": {
   "display_name": "Python 3 (ipykernel)",
   "language": "python",
   "name": "python3"
  },
  "language_info": {
   "codemirror_mode": {
    "name": "ipython",
    "version": 3
   },
   "file_extension": ".py",
   "mimetype": "text/x-python",
   "name": "python",
   "nbconvert_exporter": "python",
   "pygments_lexer": "ipython3",
   "version": "3.11.2"
  }
 },
 "nbformat": 4,
 "nbformat_minor": 5
}
